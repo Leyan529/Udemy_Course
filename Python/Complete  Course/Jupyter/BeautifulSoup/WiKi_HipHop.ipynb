{
 "cells": [
  {
   "cell_type": "code",
   "execution_count": 96,
   "metadata": {
    "collapsed": true
   },
   "outputs": [],
   "source": [
    "# -*- encoding: utf8-*\n",
    "import requests\n",
    "from bs4 import BeautifulSoup"
   ]
  },
  {
   "cell_type": "code",
   "execution_count": 124,
   "metadata": {
    "collapsed": true
   },
   "outputs": [],
   "source": [
    "#stock = input('Please Enter your stock : ')\n",
    "stock = '嘻哈'\n",
    "url = 'https://zh.wikipedia.org/wiki/'+stock\n",
    "req = requests.get(url)\n",
    "soup = BeautifulSoup(req.text,'lxml')\n",
    "soup.body\n"
   ]
  },
  {
   "cell_type": "code",
   "execution_count": 194,
   "metadata": {},
   "outputs": [
    {
     "data": {
      "text/plain": [
       "6"
      ]
     },
     "execution_count": 194,
     "metadata": {},
     "output_type": "execute_result"
    }
   ],
   "source": [
    "span = soup.find_all('div',{'class' : 'div-col columns column-count column-count-3'})\n",
    "len(span)"
   ]
  },
  {
   "cell_type": "code",
   "execution_count": 201,
   "metadata": {},
   "outputs": [
    {
     "data": {
      "text/plain": [
       "['Rapper', '音樂廠牌', 'DJ', '日本', '韓國', '流行歌手']"
      ]
     },
     "execution_count": 201,
     "metadata": {},
     "output_type": "execute_result"
    }
   ],
   "source": [
    "filterList = ['3.1.1','3.1.2','3.1.3','3.2','3.3']\n",
    "title = []\n",
    "\n",
    "for item in soup.find_all('li',{'class':'toclevel-3'}) :\n",
    "     title.append(item.find('span',{'class':'toctext'}).string)   \n",
    "\n",
    "for item in soup.find_all('li',{'class':'toclevel-2'}): \n",
    "    if item.find('span',{'class':'tocnumber'}).string in filterList:\n",
    "      title.append(item.find('span',{'class':'toctext'}).string) \n",
    "title.append('流行歌手')\n",
    "title"
   ]
  },
  {
   "cell_type": "code",
   "execution_count": 210,
   "metadata": {
    "collapsed": true
   },
   "outputs": [],
   "source": [
    "data ={}\n",
    "\n",
    "for index,item in enumerate(span):  \n",
    "    list =[]\n",
    "    for inner in item.find('ul').find_all('li'):\n",
    "        if inner.find('a') != None:\n",
    "            list.append(inner.find('a').string)\n",
    "        else:\n",
    "            list.append(inner.string)            \n",
    "    data[title[index]] = list"
   ]
  },
  {
   "cell_type": "code",
   "execution_count": 212,
   "metadata": {
    "scrolled": false
   },
   "outputs": [
    {
     "name": "stdout",
     "output_type": "stream",
     "text": [
      "Rapper\n",
      "['謝和弦', '蛋堡Soft Lipa', '宋岳庭', 'G$MOB黑錢幫', 'MC Hotdog', '大支', '頑童MJ116', '大馬戲團', '麻吉', 'TTM麻煩製造者', '亞力維新', '大囍門', '拷秋勤', '幼稚园杀手', '地下國度', 'YOUNG SOULJAZ（楊素貞）', '鐵竹堂', 'EAC', 'J.Wu', '參劈', 'G.BROTHAZ', '壞南孩Down South Boyz', 'Yella Boyz野樂男孩', 'Meanmachine Taiwan', '國蛋 GorDoN', 'R-Flow阿福羅', '馬克Mark', '葛仲珊', '跨院 QUADRANGLE FAMILY', '蔡詩芸', '李英宏', '小人', '蚊子', '周湯豪', '潘瑋柏', '熊仔', 'LEO 王', '大衛．蕭', 'CityRonin青井', 'Yellow tiger spot samurai', 'L.C小光', 'Yella Boyz野樂男孩', 'BR', 'RPG', '韓森', '懂伯', '魏買嘉', 'HIP-HOP BUNCH 搖擺族群']\n",
      "音樂廠牌\n",
      "['本色音樂', '秘密基地', '顏社', 'HOW WE ROLL好威龍', '土狗幫T ₩ølf Møb MUSI₵', '頂樓音樂', '詠春音樂', '逆流音樂', '地下國度UnderGround Nation', '勾引娛樂GoingEntertainment', 'G-Money inc.(The Gangsta Money Fast)', '麻煩娛樂', '麻吉娛樂', '雲道CloudyTunnel', 'DAGO打狗音樂', '跨院唱片', '人人有功練']\n",
      "DJ\n",
      "['D.J. Kool Klone', 'DJ Chicano/光頭', 'DJ Noodles/麵麵', 'DJ EasyDragon/易龍', 'DJ Vicar/小奇', 'DJ Afro/正男', 'DJ E-Turn/楊立鈦', 'DJ Mr.Gin/精總', 'DJ RayRay/蕾蕾', 'DJ Kid/小鬼', 'DJ Jerry/羅百吉', 'DJ G.Oldie']\n",
      "日本\n",
      "['Rip Slyme', 'Funky Monkey Babys', '決明子', 'King Giddra', 'Dabo', 'Hime', 'AK-69', 'DS455', 'TWO-J', 'KREVA', 'Microphone Pager', 'm-flo', 'Kick the can crew', 'RHYMESTER', 'Teriyaki Boyz', 'GAGLE', 'WISE']\n",
      "韓國\n",
      "['BIGBANG', 'BTS', 'IKON', '2NE1', 'BLACKPINK', 'Block B', 'B.A.P', 'Epik High', 'Crush', 'Dean', 'Dok2', 'Eun Ji-won', 'DinDin', 'The Quiett', 'Beenzino', 'Swings', 'Dynamic Duo', 'LeeSsang', 'Supreme Team', 'Verbal Jint', 'San E', 'Mad Clown', 'MC Meta', 'MC Mong', 'MC Sniper', 'MYK', 'M.I.B', 'Jay Park', 'Loco', 'Olltii', 'Simon D', 'Gray', 'Phantom', 'Rhythm Power', 'Vasco', 'C Jamm', 'Black Nut', 'Giriboy', 'Basick', 'Tasha', 'Tiger JK', 'Microdot', 'BewhY', 'Kisum', 'Cheetah', 'Paloalto', 'Okasian', 'Superbee', 'MFBTY', 'Geeks', 'Sik-K', 'Andup', 'Jazz Mezz', 'InnoVator', 'Incredivle', 'Nochang', 'D.O', 'P-Type', 'Leessang', 'Dynamic Duo', 'E SENS', 'Outsider', 'Crucial Star', 'Reddy', 'Huckleberry P', 'Double K', 'KittiB', 'Tymee', 'Jessi', 'SEVENTEEN']\n",
      "流行歌手\n",
      "['T.O.P.', 'Jennie', '宋旻浩', 'CL', 'Miryo', 'LE', 'Amber', 'C.A.P.', 'Ravi', '智珉', '朴經', 'Baro', '光旻', '周憲', '方容國', '段宜恩', 'S.coups', '禮智', 'BOBBY', '龍俊亨', '李旼赫', 'SUGA', '澤演', '金泰憲']\n"
     ]
    }
   ],
   "source": [
    "#Usage\n",
    "for i in data.keys():\n",
    "    print (i)\n",
    "    print(data[i])"
   ]
  },
  {
   "cell_type": "code",
   "execution_count": 158,
   "metadata": {},
   "outputs": [
    {
     "name": "stdout",
     "output_type": "stream",
     "text": [
      "True\n"
     ]
    }
   ],
   "source": []
  },
  {
   "cell_type": "code",
   "execution_count": null,
   "metadata": {
    "collapsed": true
   },
   "outputs": [],
   "source": []
  }
 ],
 "metadata": {
  "kernelspec": {
   "display_name": "Python 3",
   "language": "python",
   "name": "python3"
  },
  "language_info": {
   "codemirror_mode": {
    "name": "ipython",
    "version": 3
   },
   "file_extension": ".py",
   "mimetype": "text/x-python",
   "name": "python",
   "nbconvert_exporter": "python",
   "pygments_lexer": "ipython3",
   "version": "3.6.3"
  }
 },
 "nbformat": 4,
 "nbformat_minor": 2
}
